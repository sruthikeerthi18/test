{
 "cells": [
  {
   "cell_type": "code",
   "execution_count": 1,
   "metadata": {},
   "outputs": [],
   "source": [
    "import os"
   ]
  },
  {
   "cell_type": "code",
   "execution_count": 30,
   "metadata": {},
   "outputs": [],
   "source": [
    "import shutil"
   ]
  },
  {
   "cell_type": "code",
   "execution_count": 35,
   "metadata": {},
   "outputs": [],
   "source": [
    "def separate_masks(data_directory):\n",
    "    patients = os.listdir(data_directory)\n",
    "    patient_files = []\n",
    "    for p in patients:\n",
    "        patient_dir = os.path.join(data_directory, p)\n",
    "        files = os.listdir(patient_dir)\n",
    "        image_path = os.path.join(os.path.join(data_directory, p), \"images\")\n",
    "        mask_path = os.path.join(os.path.join(data_directory, p), \"masks\")\n",
    "        os.mkdir(image_path)\n",
    "        os.mkdir(mask_path)\n",
    "        for file in files:\n",
    "            if file.split(\".\")[0][-4:] == 'mask':\n",
    "                shutil.move(os.path.join(patient_dir, file), os.path.join(mask_path, file))"
   ]
  },
  {
   "cell_type": "code",
   "execution_count": 36,
   "metadata": {},
   "outputs": [],
   "source": [
    "separate_masks(\"lgg-mri-segmentation\")"
   ]
  },
  {
   "cell_type": "code",
   "execution_count": 47,
   "metadata": {},
   "outputs": [],
   "source": [
    "def separate_images(data_directory):\n",
    "    patients = os.listdir(data_directory)\n",
    "    patient_files = []\n",
    "    for p in patients:\n",
    "        patient_dir = os.path.join(data_directory, p)\n",
    "        files = os.listdir(os.path.join(data_directory, p)) \n",
    "        image_path = os.path.join(os.path.join(data_directory, p), \"images\")\n",
    "        for file in files[2:]:\n",
    "            if file.split(\".\")[1] == 'tif':\n",
    "                shutil.move(os.path.join(patient_dir, file), os.path.join(image_path, file))"
   ]
  },
  {
   "cell_type": "code",
   "execution_count": 48,
   "metadata": {},
   "outputs": [],
   "source": [
    "separate_images(\"lgg-mri-segmentation\")"
   ]
  },
  {
   "cell_type": "code",
   "execution_count": null,
   "metadata": {},
   "outputs": [],
   "source": []
  }
 ],
 "metadata": {
  "kernelspec": {
   "display_name": "Python 3",
   "language": "python",
   "name": "python3"
  },
  "language_info": {
   "codemirror_mode": {
    "name": "ipython",
    "version": 3
   },
   "file_extension": ".py",
   "mimetype": "text/x-python",
   "name": "python",
   "nbconvert_exporter": "python",
   "pygments_lexer": "ipython3",
   "version": "3.7.3"
  }
 },
 "nbformat": 4,
 "nbformat_minor": 2
}
